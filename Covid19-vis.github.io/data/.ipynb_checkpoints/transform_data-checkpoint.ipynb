{
 "cells": [
  {
   "cell_type": "code",
   "execution_count": null,
   "id": "6f56ed3d",
   "metadata": {},
   "outputs": [],
   "source": [
    "import pandas as pd\n",
    "\n",
    "\n",
    "data_2020 = pd.read_csv('us-counties-2020.csv')\n",
    "\n",
    "data_2020['date'] = pd.to_datetime(data_2020['date'])\n",
    "days_in_year = (data_2020['date'].max() - data_2020['date'].min()).days + 1\n",
    "average_cases_per_day = data_2020.groupby(['county', 'state', 'fips']).cases.sum().reset_index()\n",
    "average_cases_per_day['cases_per_day'] = average_cases_per_day['cases'] / days_in_year\n",
    "\n",
    "average_cases_per_day.to_json('average_cases_per_day_2020.json', orient='records')\n"
   ]
  }
 ],
 "metadata": {
  "kernelspec": {
   "display_name": "Python 3 (ipykernel)",
   "language": "python",
   "name": "python3"
  },
  "language_info": {
   "codemirror_mode": {
    "name": "ipython",
    "version": 3
   },
   "file_extension": ".py",
   "mimetype": "text/x-python",
   "name": "python",
   "nbconvert_exporter": "python",
   "pygments_lexer": "ipython3",
   "version": "3.11.5"
  }
 },
 "nbformat": 4,
 "nbformat_minor": 5
}
