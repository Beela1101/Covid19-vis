{
 "cells": [
  {
   "cell_type": "code",
   "execution_count": 3,
   "id": "a3a29ff3",
   "metadata": {},
   "outputs": [],
   "source": [
    "import pandas as pd\n",
    "def export_data(year):\n",
    "    data_2020 = pd.read_csv(f'us-counties-{year}.csv')\n",
    "    data_2020['date'] = pd.to_datetime(data_2020['date'])\n",
    "    days_in_year = (data_2020['date'].max() - data_2020['date'].min()).days + 1\n",
    "    average_cases_per_day = data_2020.groupby(['county', 'state', 'fips']).cases.sum().reset_index()\n",
    "    average_cases_per_day['cases_per_day'] = average_cases_per_day['cases'] / days_in_year\n",
    "    average_cases_per_day.to_json(f'average_cases_per_day_{year}.json', orient='records')"
   ]
  },
  {
   "cell_type": "code",
   "execution_count": 4,
   "id": "a970f7ad",
   "metadata": {},
   "outputs": [],
   "source": [
    "for year in [2020, 2021, 2022]:\n",
    "    export_data(year)"
   ]
  },
  {
   "cell_type": "code",
   "execution_count": 5,
   "id": "366ed2de",
   "metadata": {},
   "outputs": [],
   "source": [
    "def export_data(year):\n",
    "    data_2020 = pd.read_csv(f'us-counties-{year}.csv')\n",
    "    data_2020['date'] = pd.to_datetime(data_2020['date'])\n",
    "    days_in_year = (data_2020['date'].max() - data_2020['date'].min()).days + 1\n",
    "    average_cases_per_day = data_2020.groupby(['county', 'state', 'fips']).cases.sum().reset_index()\n",
    "    average_cases_per_day['cases_per_day'] = average_cases_per_day['cases'] / days_in_year\n",
    "    return average_cases_per_day"
   ]
  },
  {
   "cell_type": "code",
   "execution_count": 6,
   "id": "5f25ac37",
   "metadata": {},
   "outputs": [],
   "source": [
    "data_2020 = export_data(2020)"
   ]
  },
  {
   "cell_type": "code",
   "execution_count": 7,
   "id": "1617ab3a",
   "metadata": {},
   "outputs": [],
   "source": [
    "data_2021 = export_data(2021)"
   ]
  },
  {
   "cell_type": "code",
   "execution_count": 8,
   "id": "7d6950dd",
   "metadata": {},
   "outputs": [
    {
     "data": {
      "text/html": [
       "<div>\n",
       "<style scoped>\n",
       "    .dataframe tbody tr th:only-of-type {\n",
       "        vertical-align: middle;\n",
       "    }\n",
       "\n",
       "    .dataframe tbody tr th {\n",
       "        vertical-align: top;\n",
       "    }\n",
       "\n",
       "    .dataframe thead th {\n",
       "        text-align: right;\n",
       "    }\n",
       "</style>\n",
       "<table border=\"1\" class=\"dataframe\">\n",
       "  <thead>\n",
       "    <tr style=\"text-align: right;\">\n",
       "      <th></th>\n",
       "      <th>county</th>\n",
       "      <th>state</th>\n",
       "      <th>fips</th>\n",
       "      <th>cases</th>\n",
       "      <th>cases_per_day</th>\n",
       "    </tr>\n",
       "  </thead>\n",
       "  <tbody>\n",
       "    <tr>\n",
       "      <th>0</th>\n",
       "      <td>Abbeville</td>\n",
       "      <td>South Carolina</td>\n",
       "      <td>45001.0</td>\n",
       "      <td>119251</td>\n",
       "      <td>344.656069</td>\n",
       "    </tr>\n",
       "    <tr>\n",
       "      <th>1</th>\n",
       "      <td>Acadia</td>\n",
       "      <td>Louisiana</td>\n",
       "      <td>22001.0</td>\n",
       "      <td>591296</td>\n",
       "      <td>1708.947977</td>\n",
       "    </tr>\n",
       "    <tr>\n",
       "      <th>2</th>\n",
       "      <td>Accomack</td>\n",
       "      <td>Virginia</td>\n",
       "      <td>51001.0</td>\n",
       "      <td>275638</td>\n",
       "      <td>796.641618</td>\n",
       "    </tr>\n",
       "    <tr>\n",
       "      <th>3</th>\n",
       "      <td>Ada</td>\n",
       "      <td>Idaho</td>\n",
       "      <td>16001.0</td>\n",
       "      <td>3020647</td>\n",
       "      <td>8730.193642</td>\n",
       "    </tr>\n",
       "    <tr>\n",
       "      <th>4</th>\n",
       "      <td>Adair</td>\n",
       "      <td>Iowa</td>\n",
       "      <td>19001.0</td>\n",
       "      <td>34644</td>\n",
       "      <td>100.127168</td>\n",
       "    </tr>\n",
       "  </tbody>\n",
       "</table>\n",
       "</div>"
      ],
      "text/plain": [
       "      county           state     fips    cases  cases_per_day\n",
       "0  Abbeville  South Carolina  45001.0   119251     344.656069\n",
       "1     Acadia       Louisiana  22001.0   591296    1708.947977\n",
       "2   Accomack        Virginia  51001.0   275638     796.641618\n",
       "3        Ada           Idaho  16001.0  3020647    8730.193642\n",
       "4      Adair            Iowa  19001.0    34644     100.127168"
      ]
     },
     "execution_count": 8,
     "metadata": {},
     "output_type": "execute_result"
    }
   ],
   "source": [
    "data_2020.head()"
   ]
  },
  {
   "cell_type": "code",
   "execution_count": 10,
   "id": "6efcd76c",
   "metadata": {},
   "outputs": [
    {
     "data": {
      "text/plain": [
       "1308439.9561643836"
      ]
     },
     "execution_count": 10,
     "metadata": {},
     "output_type": "execute_result"
    }
   ],
   "source": [
    "data_2021['cases_per_day'].max()"
   ]
  },
  {
   "cell_type": "code",
   "execution_count": 11,
   "id": "d5db4b4a",
   "metadata": {},
   "outputs": [],
   "source": [
    "data_2022= export_data(2022)"
   ]
  },
  {
   "cell_type": "code",
   "execution_count": 12,
   "id": "b81ffba6",
   "metadata": {},
   "outputs": [
    {
     "data": {
      "text/plain": [
       "3101593.97260274"
      ]
     },
     "execution_count": 12,
     "metadata": {},
     "output_type": "execute_result"
    }
   ],
   "source": [
    "data_2022['cases_per_day'].max()"
   ]
  },
  {
   "cell_type": "code",
   "execution_count": 13,
   "id": "b149552f",
   "metadata": {},
   "outputs": [
    {
     "data": {
      "text/plain": [
       "173343.8063583815"
      ]
     },
     "execution_count": 13,
     "metadata": {},
     "output_type": "execute_result"
    }
   ],
   "source": [
    "data_2020['cases_per_day'].max()"
   ]
  },
  {
   "cell_type": "code",
   "execution_count": null,
   "id": "7bf3c71a",
   "metadata": {},
   "outputs": [],
   "source": []
  }
 ],
 "metadata": {
  "kernelspec": {
   "display_name": "Python 3 (ipykernel)",
   "language": "python",
   "name": "python3"
  },
  "language_info": {
   "codemirror_mode": {
    "name": "ipython",
    "version": 3
   },
   "file_extension": ".py",
   "mimetype": "text/x-python",
   "name": "python",
   "nbconvert_exporter": "python",
   "pygments_lexer": "ipython3",
   "version": "3.11.5"
  }
 },
 "nbformat": 4,
 "nbformat_minor": 5
}
